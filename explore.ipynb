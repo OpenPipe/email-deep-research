{
  "cells": [
    {
      "cell_type": "code",
      "execution_count": 36,
      "metadata": {},
      "outputs": [
        {
          "name": "stdout",
          "output_type": "stream",
          "text": [
            "EMAIL ROW\n",
            "                            file  \\\n",
            "1196  allen-p/all_documents/756.   \n",
            "\n",
            "                                                message  \n",
            "1196  Message-ID: <12635597.1075855702772.JavaMail.e...  \n",
            "DONE\n",
            "File: allen-p/all_documents/756.\n",
            "Message ID: <12635597.1075855702772.JavaMail.evans@thyme>\n",
            "Subject: Re: Carlsbad/El Paso: Aug 23 Update: Press Conference scheduled on\n",
            " Thursday\n",
            "From: phillip.allen@enron.com\n",
            "To: scott.tholan@enron.com\n",
            "Date: 1980-01-01 00:00:00+00:00\n",
            "\n",
            "Body:\n",
            "Scott,\n",
            "\n",
            " Thanks for the email.  I have two questions:\n",
            "\n",
            " 1.  The \n"
          ]
        }
      ],
      "source": [
        "import pandas as pd\n",
        "import mailparser\n",
        "import os\n",
        "\n",
        "# Path to the Enron dataset CSV\n",
        "csv_path = \"./data/emails.csv\"\n",
        "\n",
        "# Check if the dataset exists\n",
        "if not os.path.exists(csv_path):\n",
        "    print(\n",
        "        \"Enron dataset not found. Please run enron_processor.py first to download the dataset.\"\n",
        "    )\n",
        "else:\n",
        "    # Load the dataset\n",
        "    df = pd.read_csv(csv_path, delimiter=\",\")\n",
        "\n",
        "    # Find the specific file \"allen-p/all_documents/756.\"\n",
        "    target_file = \"allen-p/all_documents/756.\"\n",
        "    email_row = df[df[\"file\"] == target_file]\n",
        "\n",
        "    print(\"EMAIL ROW\")\n",
        "    print(email_row)\n",
        "    print(\"DONE\")\n",
        "\n",
        "    if email_row.empty:\n",
        "        print(f\"File '{target_file}' not found in the dataset.\")\n",
        "    else:\n",
        "        # Parse the email\n",
        "        try:\n",
        "            email_message = email_row.iloc[0][\"message\"]\n",
        "            mail = mailparser.parse_from_string(email_message)\n",
        "\n",
        "            # Display email details\n",
        "            print(f\"File: {target_file}\")\n",
        "            print(f\"Message ID: {mail.message_id}\")\n",
        "            print(f\"Subject: {mail.subject}\")\n",
        "            print(f\"From: {mail.from_[0][1] if mail.from_ else 'N/A'}\")\n",
        "            print(f\"To: {', '.join([t[1] for t in mail.to]) if mail.to else 'N/A'}\")\n",
        "            print(f\"Date: {mail.date}\")\n",
        "            print(\"\\nBody:\")\n",
        "            print(mail.body)\n",
        "        except Exception as e:\n",
        "            print(f\"Error parsing email: {str(e)}\")\n"
      ]
    },
    {
      "cell_type": "code",
      "execution_count": 18,
      "metadata": {},
      "outputs": [
        {
          "data": {
            "text/plain": [
              "{'type': 'function',\n",
              " 'function': {'name': 'search_emails',\n",
              "  'description': 'Searches the email database based on keywords, inbox, sender, recipient, and date range.',\n",
              "  'parameters': {'properties': {'keywords': {'description': 'A list of keywords that must all appear in the subject or body.',\n",
              "     'items': {'type': 'string'},\n",
              "     'type': 'array'},\n",
              "    'from_addr': {'anyOf': [{'type': 'string'}, {'type': 'null'}],\n",
              "     'default': None,\n",
              "     'description': 'Optional email address to filter emails sent *from*.'},\n",
              "    'to_addr': {'anyOf': [{'type': 'string'}, {'type': 'null'}],\n",
              "     'default': None,\n",
              "     'description': 'Optional email address to filter emails sent *to* (inc. cc/bcc).'},\n",
              "    'sent_after': {'anyOf': [{'type': 'string'}, {'type': 'null'}],\n",
              "     'default': None,\n",
              "     'description': \"Optional date string 'YYYY-MM-DD'. Filters for emails sent on or after this date.\"},\n",
              "    'sent_before': {'anyOf': [{'type': 'string'}, {'type': 'null'}],\n",
              "     'default': None,\n",
              "     'description': \"Optional date string 'YYYY-MM-DD'. Filters for emails sent before this date.\"},\n",
              "    'max_results': {'default': 10,\n",
              "     'description': 'The maximum number of results to return.',\n",
              "     'type': 'integer'}},\n",
              "   'required': None,\n",
              "   'type': 'object'}}}"
            ]
          },
          "execution_count": 18,
          "metadata": {},
          "output_type": "execute_result"
        }
      ],
      "source": [
        "from langchain_core.utils.function_calling import convert_to_openai_tool\n",
        "from email_search_tools import search_emails, read_email\n",
        "\n",
        "tool = convert_to_openai_tool(search_emails)\n",
        "del tool[\"function\"][\"parameters\"][\"properties\"][\"inbox\"]\n",
        "tool[\"function\"][\"parameters\"][\"required\"].remove(\"inbox\")\n",
        "tool\n",
        "# convert_to_openai_tool(read_email)"
      ]
    }
  ],
  "metadata": {
    "kernelspec": {
      "display_name": ".venv",
      "language": "python",
      "name": "python3"
    },
    "language_info": {
      "codemirror_mode": {
        "name": "ipython",
        "version": 3
      },
      "file_extension": ".py",
      "mimetype": "text/x-python",
      "name": "python",
      "nbconvert_exporter": "python",
      "pygments_lexer": "ipython3",
      "version": "3.10.15"
    }
  },
  "nbformat": 4,
  "nbformat_minor": 2
}
