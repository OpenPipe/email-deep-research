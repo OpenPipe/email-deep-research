{
 "cells": [
  {
   "cell_type": "code",
   "execution_count": 7,
   "metadata": {},
   "outputs": [
    {
     "name": "stdout",
     "output_type": "stream",
     "text": [
      "Loading the Enron emails dataset from Hugging Face...\n"
     ]
    },
    {
     "name": "stderr",
     "output_type": "stream",
     "text": [
      "Generating train split: 100%|██████████| 100/100 [00:00<00:00, 21890.94 examples/s]"
     ]
    },
    {
     "name": "stdout",
     "output_type": "stream",
     "text": [
      "Dataset contains 100 emails\n",
      "\n",
      "Dataset columns:\n",
      "- message_id\n",
      "- subject\n",
      "- from\n",
      "- to\n",
      "- cc\n",
      "- bcc\n",
      "- date\n",
      "- body\n",
      "- file_name\n",
      "\n",
      "Sample of the dataset:\n"
     ]
    },
    {
     "name": "stderr",
     "output_type": "stream",
     "text": [
      "\n"
     ]
    },
    {
     "data": {
      "text/html": [
       "<div>\n",
       "<style scoped>\n",
       "    .dataframe tbody tr th:only-of-type {\n",
       "        vertical-align: middle;\n",
       "    }\n",
       "\n",
       "    .dataframe tbody tr th {\n",
       "        vertical-align: top;\n",
       "    }\n",
       "\n",
       "    .dataframe thead th {\n",
       "        text-align: right;\n",
       "    }\n",
       "</style>\n",
       "<table border=\"1\" class=\"dataframe\">\n",
       "  <thead>\n",
       "    <tr style=\"text-align: right;\">\n",
       "      <th></th>\n",
       "      <th>message_id</th>\n",
       "      <th>subject</th>\n",
       "      <th>from</th>\n",
       "      <th>to</th>\n",
       "      <th>cc</th>\n",
       "      <th>bcc</th>\n",
       "      <th>date</th>\n",
       "      <th>body</th>\n",
       "      <th>file_name</th>\n",
       "    </tr>\n",
       "  </thead>\n",
       "  <tbody>\n",
       "    <tr>\n",
       "      <th>0</th>\n",
       "      <td>&lt;18782981.1075855378110.JavaMail.evans@thyme&gt;</td>\n",
       "      <td></td>\n",
       "      <td>phillip.allen@enron.com &lt;&gt;</td>\n",
       "      <td>[]</td>\n",
       "      <td>[]</td>\n",
       "      <td>[]</td>\n",
       "      <td>2001-05-14 23:39:00+00:00</td>\n",
       "      <td>Here is our forecast\\n\\n</td>\n",
       "      <td>allen-p/_sent_mail/1.</td>\n",
       "    </tr>\n",
       "    <tr>\n",
       "      <th>1</th>\n",
       "      <td>&lt;15464986.1075855378456.JavaMail.evans@thyme&gt;</td>\n",
       "      <td>Re:</td>\n",
       "      <td>phillip.allen@enron.com &lt;&gt;</td>\n",
       "      <td>[]</td>\n",
       "      <td>[]</td>\n",
       "      <td>[]</td>\n",
       "      <td>2001-05-04 20:51:00+00:00</td>\n",
       "      <td>Traveling to have a business meeting takes the...</td>\n",
       "      <td>allen-p/_sent_mail/10.</td>\n",
       "    </tr>\n",
       "    <tr>\n",
       "      <th>2</th>\n",
       "      <td>&lt;24216240.1075855687451.JavaMail.evans@thyme&gt;</td>\n",
       "      <td>Re: test</td>\n",
       "      <td>phillip.allen@enron.com &lt;&gt;</td>\n",
       "      <td>[]</td>\n",
       "      <td>[]</td>\n",
       "      <td>[]</td>\n",
       "      <td>2000-10-18 10:00:00+00:00</td>\n",
       "      <td>test successful.  way to go!!!</td>\n",
       "      <td>allen-p/_sent_mail/100.</td>\n",
       "    </tr>\n",
       "    <tr>\n",
       "      <th>3</th>\n",
       "      <td>&lt;13505866.1075863688222.JavaMail.evans@thyme&gt;</td>\n",
       "      <td></td>\n",
       "      <td>phillip.allen@enron.com &lt;&gt;</td>\n",
       "      <td>[]</td>\n",
       "      <td>[]</td>\n",
       "      <td>[]</td>\n",
       "      <td>2000-10-23 13:13:00+00:00</td>\n",
       "      <td>Randy,\\n\\n Can you send me a schedule of the s...</td>\n",
       "      <td>allen-p/_sent_mail/1000.</td>\n",
       "    </tr>\n",
       "    <tr>\n",
       "      <th>4</th>\n",
       "      <td>&lt;30922949.1075863688243.JavaMail.evans@thyme&gt;</td>\n",
       "      <td>Re: Hello</td>\n",
       "      <td>phillip.allen@enron.com &lt;&gt;</td>\n",
       "      <td>[]</td>\n",
       "      <td>[]</td>\n",
       "      <td>[]</td>\n",
       "      <td>2000-08-31 12:07:00+00:00</td>\n",
       "      <td>Let's shoot for Tuesday at 11:45.</td>\n",
       "      <td>allen-p/_sent_mail/1001.</td>\n",
       "    </tr>\n",
       "  </tbody>\n",
       "</table>\n",
       "</div>"
      ],
      "text/plain": [
       "                                      message_id    subject  \\\n",
       "0  <18782981.1075855378110.JavaMail.evans@thyme>              \n",
       "1  <15464986.1075855378456.JavaMail.evans@thyme>        Re:   \n",
       "2  <24216240.1075855687451.JavaMail.evans@thyme>   Re: test   \n",
       "3  <13505866.1075863688222.JavaMail.evans@thyme>              \n",
       "4  <30922949.1075863688243.JavaMail.evans@thyme>  Re: Hello   \n",
       "\n",
       "                         from  to  cc bcc                      date  \\\n",
       "0  phillip.allen@enron.com <>  []  []  [] 2001-05-14 23:39:00+00:00   \n",
       "1  phillip.allen@enron.com <>  []  []  [] 2001-05-04 20:51:00+00:00   \n",
       "2  phillip.allen@enron.com <>  []  []  [] 2000-10-18 10:00:00+00:00   \n",
       "3  phillip.allen@enron.com <>  []  []  [] 2000-10-23 13:13:00+00:00   \n",
       "4  phillip.allen@enron.com <>  []  []  [] 2000-08-31 12:07:00+00:00   \n",
       "\n",
       "                                                body                 file_name  \n",
       "0                          Here is our forecast\\n\\n      allen-p/_sent_mail/1.  \n",
       "1  Traveling to have a business meeting takes the...    allen-p/_sent_mail/10.  \n",
       "2                     test successful.  way to go!!!   allen-p/_sent_mail/100.  \n",
       "3  Randy,\\n\\n Can you send me a schedule of the s...  allen-p/_sent_mail/1000.  \n",
       "4                Let's shoot for Tuesday at 11:45.    allen-p/_sent_mail/1001.  "
      ]
     },
     "metadata": {},
     "output_type": "display_data"
    },
    {
     "name": "stdout",
     "output_type": "stream",
     "text": [
      "\n",
      "Basic statistics:\n",
      "Number of unique senders: 1\n",
      "Average email body length: 1166.80 characters\n"
     ]
    }
   ],
   "source": [
    "import pandas as pd\n",
    "from datasets import load_dataset\n",
    "from IPython.display import display\n",
    "\n",
    "# Load the Enron emails dataset from Hugging Face\n",
    "print(\"Loading the Enron emails dataset from Hugging Face...\")\n",
    "dataset = load_dataset(\"corbt/enron-emails\")\n",
    "\n",
    "# Convert to pandas DataFrame for easier exploration\n",
    "df = pd.DataFrame(dataset[\"train\"])\n",
    "\n",
    "# Display basic information about the dataset\n",
    "print(f\"Dataset contains {len(df)} emails\")\n",
    "print(\"\\nDataset columns:\")\n",
    "for col in df.columns:\n",
    "    print(f\"- {col}\")\n",
    "\n",
    "# Display a sample of the dataset\n",
    "print(\"\\nSample of the dataset:\")\n",
    "display(df.head())\n",
    "\n",
    "# Show some basic statistics\n",
    "print(\"\\nBasic statistics:\")\n",
    "print(f\"Number of unique senders: {df['from'].nunique()}\")\n",
    "print(f\"Average email body length: {df['body'].str.len().mean():.2f} characters\")\n"
   ]
  },
  {
   "cell_type": "code",
   "execution_count": 5,
   "metadata": {},
   "outputs": [
    {
     "data": {
      "text/plain": [
       "[['', 'phillip.allen@enron.com']]"
      ]
     },
     "execution_count": 5,
     "metadata": {},
     "output_type": "execute_result"
    }
   ],
   "source": [
    "df.iloc[0][\"from\"]"
   ]
  }
 ],
 "metadata": {
  "kernelspec": {
   "display_name": ".venv",
   "language": "python",
   "name": "python3"
  },
  "language_info": {
   "codemirror_mode": {
    "name": "ipython",
    "version": 3
   },
   "file_extension": ".py",
   "mimetype": "text/x-python",
   "name": "python",
   "nbconvert_exporter": "python",
   "pygments_lexer": "ipython3",
   "version": "3.10.15"
  }
 },
 "nbformat": 4,
 "nbformat_minor": 2
}
